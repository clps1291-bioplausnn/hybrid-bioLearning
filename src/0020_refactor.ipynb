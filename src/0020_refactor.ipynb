{
 "cells": [
  {
   "cell_type": "code",
   "execution_count": 1,
   "metadata": {},
   "outputs": [],
   "source": [
    "%load_ext autoreload\n",
    "%autoreload 2\n",
    "%matplotlib inline\n",
    "%matplotlib notebook\n",
    "\n",
    "import os\n",
    "cpu='0'\n",
    "os.environ['CUDA_VISIBLE_DEVICES']=cpu\n",
    "\n",
    "from bio_learn2 import *"
   ]
  },
  {
   "cell_type": "code",
   "execution_count": 2,
   "metadata": {},
   "outputs": [
    {
     "name": "stdout",
     "output_type": "stream",
     "text": [
      "train_data, test_data: torch.Size([60000, 784]) torch.Size([60000]) torch.Size([10000, 784]) torch.Size([10000])\n"
     ]
    }
   ],
   "source": [
    "(train_X, train_y), (test_X, test_y) = get_data('train'), get_data('test')\n",
    "print('train_data, test_data:', train_X.shape, train_y.shape, test_X.shape, test_y.shape)"
   ]
  },
  {
   "cell_type": "code",
   "execution_count": 3,
   "metadata": {},
   "outputs": [],
   "source": [
    "file = '../data/0020_unsupervised_weights.pkl'\n",
    "if os.path.isfile(file): weights = torch.load(file)\n",
    "else: \n",
    "    weights = get_unsupervised_weights(train_X, n_hidden=2000, n_epochs=200, batch_size=3584)\n",
    "    torch.save(weights, file)"
   ]
  },
  {
   "cell_type": "code",
   "execution_count": 7,
   "metadata": {},
   "outputs": [
    {
     "name": "stdout",
     "output_type": "stream",
     "text": [
      "Final Accuracy: 0.96 Took: 55s\n"
     ]
    }
   ],
   "source": [
    "n_classes = 10\n",
    "model = BioClassifier(weights, n_classes)\n",
    "run_test(train_X, train_y, test_X, test_y, model, epochs=100, loss=BioLoss(n_classes), batch_size=1024, lr=1e-4)  \n",
    "# Final Accuracy: 0.97 Took: 55s"
   ]
  },
  {
   "cell_type": "code",
   "execution_count": 17,
   "metadata": {},
   "outputs": [],
   "source": [
    "model_file = '../data/0020_BioClassifier.pkl'\n",
    "torch.save(model, model_file)"
   ]
  },
  {
   "cell_type": "code",
   "execution_count": 19,
   "metadata": {},
   "outputs": [
    {
     "name": "stdout",
     "output_type": "stream",
     "text": [
      "Final Accuracy: 0.98 Took: 95s\n"
     ]
    }
   ],
   "source": [
    "model2 = SimpleConvNet(n_classes)\n",
    "run_test(train_X, train_y, test_X, test_y, model2, epochs=100, loss=torch.nn.NLLLoss(), batch_size=1024, lr=1e-4)  \n",
    "# Final Accuracy: 0.98 Took: 95s"
   ]
  },
  {
   "cell_type": "code",
   "execution_count": 20,
   "metadata": {},
   "outputs": [],
   "source": [
    "model_file_2 = '../data/0020_SimpleConvClassifier.pkl'\n",
    "torch.save(model2, model_file_2)"
   ]
  }
 ],
 "metadata": {
  "kernelspec": {
   "display_name": "Python 3",
   "language": "python",
   "name": "python3"
  },
  "language_info": {
   "codemirror_mode": {
    "name": "ipython",
    "version": 3
   },
   "file_extension": ".py",
   "mimetype": "text/x-python",
   "name": "python",
   "nbconvert_exporter": "python",
   "pygments_lexer": "ipython3",
   "version": "3.6.6"
  }
 },
 "nbformat": 4,
 "nbformat_minor": 2
}
