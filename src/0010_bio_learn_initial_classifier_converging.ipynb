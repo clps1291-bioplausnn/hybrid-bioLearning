{
 "cells": [
  {
   "cell_type": "code",
   "execution_count": 1,
   "metadata": {},
   "outputs": [],
   "source": [
    "%load_ext autoreload\n",
    "%autoreload 2\n",
    "%matplotlib inline\n",
    "%matplotlib notebook\n",
    "\n",
    "import os\n",
    "cpu='1'\n",
    "os.environ['CUDA_VISIBLE_DEVICES']=cpu\n",
    "\n",
    "from bio_learn import *"
   ]
  },
  {
   "cell_type": "code",
   "execution_count": 2,
   "metadata": {},
   "outputs": [
    {
     "name": "stdout",
     "output_type": "stream",
     "text": [
      "train_data, test_data: torch.Size([60000, 784]) torch.Size([60000]) torch.Size([10000, 784]) torch.Size([10000])\n"
     ]
    }
   ],
   "source": [
    "(train_X, train_y), (test_X, test_y) = get_data('train'), get_data('test')\n",
    "print('train_data, test_data:', train_X.shape, train_y.shape, test_X.shape, test_y.shape)"
   ]
  },
  {
   "cell_type": "code",
   "execution_count": 117,
   "metadata": {},
   "outputs": [],
   "source": [
    "np.random.seed(999)\n",
    "force = False\n",
    "file = '../data/weights_0.pkl'\n",
    "if not force and os.path.isfile(file):\n",
    "    weights = torch.load(file)\n",
    "else:\n",
    "    weights = get_unsupervised_weights(train_X, n_hidden=2000, n_epochs=200, batch_size=3584)          \n",
    "    if not force: torch.save(weights, file)"
   ]
  },
  {
   "cell_type": "code",
   "execution_count": 118,
   "metadata": {},
   "outputs": [
    {
     "data": {
      "image/png": "[encoded data removed]",
      "text/plain": [
       "<Figure size 720x432 with 2 Axes>"
      ]
     },
     "metadata": {
      "needs_background": "light"
     },
     "output_type": "display_data"
    }
   ],
   "source": [
    "draw_weights(weights.cpu().numpy(), n_cols=5, n_rows=4)"
   ]
  },
  {
   "cell_type": "code",
   "execution_count": 5,
   "metadata": {},
   "outputs": [
    {
     "name": "stdout",
     "output_type": "stream",
     "text": [
      "\n",
      "SimpleConvNet Model\n",
      "Final Validation Results - Epoch: 10  Avg accuracy: 0.97 Avg loss: 0.09\n"
     ]
    }
   ],
   "source": [
    "print('\\nSimpleConvNet Model')\n",
    "run_test(train_X, train_y, test_X, test_y, SimpleConvNet(), 10) # 0.97 "
   ]
  },
  {
   "cell_type": "code",
   "execution_count": 9,
   "metadata": {},
   "outputs": [
    {
     "name": "stdout",
     "output_type": "stream",
     "text": [
      "\n",
      "BioClassifier Model\n",
      "Final Validation Results - Epoch: 100  Avg accuracy: 0.10 Avg loss: 2.70\n"
     ]
    }
   ],
   "source": [
    "print('\\nBioClassifier Model')\n",
    "run_test(train_X, train_y, test_X, test_y, BioClassifier(BioCell(weights, .1, 10)), 100) # 0.10 "
   ]
  },
  {
   "cell_type": "code",
   "execution_count": 7,
   "metadata": {},
   "outputs": [
    {
     "name": "stdout",
     "output_type": "stream",
     "text": [
      "\n",
      "SimpleBioClassifier Model\n",
      "Final Validation Results - Epoch: 100  Avg accuracy: 0.90 Avg loss: 4.08\n"
     ]
    }
   ],
   "source": [
    "print('\\nSimpleBioClassifier Model')\n",
    "run_test(train_X, train_y, test_X, test_y, SimpleBioClassifier(weights, 10), 100, 1e-2) # 0.90 "
   ]
  },
  {
   "cell_type": "code",
   "execution_count": 12,
   "metadata": {},
   "outputs": [
    {
     "name": "stdout",
     "output_type": "stream",
     "text": [
      "\n",
      "BioConvClassifier Model\n",
      "Final Validation Results - Epoch: 20  Avg accuracy: 0.11 Avg loss: -89299034.05\n"
     ]
    }
   ],
   "source": [
    "print('\\nBioConvClassifier Model')\n",
    "run_test(train_X, train_y, test_X, test_y, BioConvClassifier(weights, 10), 20, 1e-2) # 0.11"
   ]
  },
  {
   "cell_type": "code",
   "execution_count": 28,
   "metadata": {},
   "outputs": [
    {
     "name": "stdout",
     "output_type": "stream",
     "text": [
      "\n",
      "BioConvClassifier2 Model\n",
      "Final Validation Results - Epoch: 10  Avg accuracy: 0.11 Avg loss: 2.30\n"
     ]
    }
   ],
   "source": [
    "print('\\nBioConvClassifier2 Model')\n",
    "run_test(train_X, train_y, test_X, test_y, BioConvClassifier2(weights), 10, 1e-2) # 0.11 "
   ]
  },
  {
   "cell_type": "code",
   "execution_count": null,
   "metadata": {},
   "outputs": [
    {
     "name": "stdout",
     "output_type": "stream",
     "text": [
      "\n",
      "BioClassifier w/ BioCell2 Model\n"
     ]
    }
   ],
   "source": [
    "print('\\nBioClassifier w/ BioCell2 Model')\n",
    "run_test(train_X, train_y, test_X, test_y, BioClassifier(BioCell2(weights)), 10) # 0.10"
   ]
  },
  {
   "cell_type": "code",
   "execution_count": null,
   "metadata": {},
   "outputs": [],
   "source": [
    "print('\\nBioClassifier w/ BioCell3 Model')\n",
    "run_test(train_X, train_y, test_X, test_y, BioClassifier(BioCell3(weights)), 100) # 0.10"
   ]
  },
  {
   "cell_type": "code",
   "execution_count": 95,
   "metadata": {},
   "outputs": [
    {
     "name": "stdout",
     "output_type": "stream",
     "text": [
      "\n",
      "BioClassifier w/ BioCell3 Model w/ BioLoss\n",
      "Final Validation Results - Epoch: 300  Avg accuracy: 0.97 Avg loss: 1174077.06 Took: 168s\n"
     ]
    }
   ],
   "source": [
    "'''\n",
    "200 epochs: 0.27 (200 epochs) \n",
    "switched WxH: 0.52\n",
    "lr=1e-3: 0.94 -- SimpleConvNet got .97, modern SOTA is + .99\n",
    "300 epochs: 0.97 \n",
    "without switched WxH (takes 488s): 0.96\n",
    "batch_size=1024 (takes 169s): 0.97 \n",
    "batch_size=2048 (takes 168s): 0.97 \n",
    "batch_size=3584 (takes 166s): 0.97 \n",
    "nn.DataParallel (takes 167s): 0.97 -- undo\n",
    "'''\n",
    "print('\\nBioClassifier w/ BioCell3 Model w/ BioLoss')\n",
    "model = BioClassifier(BioCell3(weights))\n",
    "run_test(train_X, train_y, test_X, test_y, model, 300, batch_size=3584, lr=1e-4, loss=BioLoss(m=6))  "
   ]
  },
  {
   "cell_type": "code",
   "execution_count": 96,
   "metadata": {},
   "outputs": [],
   "source": [
    "file = '../data/0010_model.pkl'\n",
    "torch.save(model, file)"
   ]
  }
 ],
 "metadata": {
  "kernelspec": {
   "display_name": "Python 3",
   "language": "python",
   "name": "python3"
  },
  "language_info": {
   "codemirror_mode": {
    "name": "ipython",
    "version": 3
   },
   "file_extension": ".py",
   "mimetype": "text/x-python",
   "name": "python",
   "nbconvert_exporter": "python",
   "pygments_lexer": "ipython3",
   "version": "3.6.6"
  }
 },
 "nbformat": 4,
 "nbformat_minor": 2
}
